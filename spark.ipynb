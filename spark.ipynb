{
 "cells": [
  {
   "cell_type": "markdown",
   "id": "e89f41a1",
   "metadata": {},
   "source": [
    "## Generating Fake Data\n",
    "\n",
    "Run the following to generate a large CSV with fake data."
   ]
  },
  {
   "cell_type": "code",
   "execution_count": 8,
   "id": "f973f50e",
   "metadata": {},
   "outputs": [],
   "source": [
    "from faker import Faker\n",
    "import random\n",
    "\n",
    "fake = Faker()\n",
    "\n",
    "with open('data.csv', 'w') as fh:\n",
    "    fh.write('teamName,points\\n')\n",
    "    for _ in range(100000):\n",
    "        fh.write(f'\"{fake.safe_color_name()}\",{random.randint(1, 50)}\\n')"
   ]
  },
  {
   "cell_type": "code",
   "execution_count": 2,
   "id": "8c2131bd",
   "metadata": {},
   "outputs": [
    {
     "data": {
      "text/plain": [
       "100000"
      ]
     },
     "execution_count": 2,
     "metadata": {},
     "output_type": "execute_result"
    }
   ],
   "source": [
    "import findspark\n",
    "findspark.init()\n",
    "\n",
    "import pyspark\n",
    "\n",
    "df = spark.read.options(header='True', inferSchema='True').csv('data.csv')\n",
    "\n",
    "df.count()"
   ]
  },
  {
   "cell_type": "code",
   "execution_count": 5,
   "id": "22483b8b",
   "metadata": {},
   "outputs": [
    {
     "data": {
      "text/plain": [
       "PythonRDD[31] at RDD at PythonRDD.scala:53"
      ]
     },
     "execution_count": 5,
     "metadata": {},
     "output_type": "execute_result"
    }
   ],
   "source": [
    "rdd = df.rdd\n",
    "\n",
    "rdd\n",
    ".map(lambda row: (row.teamName, int(row.points))).reduceByKey(lambda a, b: a + b).collect"
   ]
  },
  {
   "cell_type": "code",
   "execution_count": null,
   "id": "de911be7",
   "metadata": {},
   "outputs": [],
   "source": []
  }
 ],
 "metadata": {
  "kernelspec": {
   "display_name": "Python 3 (ipykernel)",
   "language": "python",
   "name": "python3"
  },
  "language_info": {
   "codemirror_mode": {
    "name": "ipython",
    "version": 3
   },
   "file_extension": ".py",
   "mimetype": "text/x-python",
   "name": "python",
   "nbconvert_exporter": "python",
   "pygments_lexer": "ipython3",
   "version": "3.9.6"
  }
 },
 "nbformat": 4,
 "nbformat_minor": 5
}
