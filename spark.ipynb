{
 "cells": [
  {
   "cell_type": "markdown",
   "id": "e89f41a1",
   "metadata": {},
   "source": [
    "## Generating Fake Data\n",
    "\n",
    "Run the following to generate a large CSV with fake data."
   ]
  },
  {
   "cell_type": "code",
   "execution_count": 0,
   "id": "f973f50e",
   "metadata": {},
   "outputs": [],
   "source": [
    "from faker import Faker\n",
    "import random\n",
    "\n",
    "fake = Faker()\n",
    "\n",
    "with open('data.csv', 'w') as fh:\n",
    "    fh.write('teamName,points\\n')\n",
    "    for _ in range(100000):\n",
    "        fh.write(f'\"{fake.safe_color_name()}\",{random.randint(1, 50)}\\n')"
   ]
  },
  {
   "cell_type": "code",
   "execution_count": 1,
   "id": "8c2131bd",
   "metadata": {},
   "outputs": [
    {
     "name": "stderr",
     "output_type": "stream",
     "text": [
      "                                                                                \r"
     ]
    },
    {
     "data": {
      "text/plain": [
       "10000000"
      ]
     },
     "execution_count": 1,
     "metadata": {},
     "output_type": "execute_result"
    }
   ],
   "source": [
    "import findspark\n",
    "findspark.init()\n",
    "\n",
    "import pyspark\n",
    "\n",
    "df = spark.read.options(header='True', inferSchema='True').csv('data.csv')\n",
    "\n",
    "df.count()"
   ]
  },
  {
   "cell_type": "code",
   "execution_count": 2,
   "id": "22483b8b",
   "metadata": {},
   "outputs": [
    {
     "name": "stderr",
     "output_type": "stream",
     "text": [
      "                                                                                \r"
     ]
    },
    {
     "data": {
      "text/plain": [
       "[('navy', 17051973),\n",
       " ('maroon', 17041041),\n",
       " ('black', 17036182),\n",
       " ('purple', 17015296),\n",
       " ('fuchsia', 17009305),\n",
       " ('aqua', 16999255),\n",
       " ('teal', 16994415),\n",
       " ('yellow', 16992658),\n",
       " ('olive', 16986105),\n",
       " ('blue', 16983886),\n",
       " ('white', 16977923),\n",
       " ('green', 16973848),\n",
       " ('lime', 16971582),\n",
       " ('silver', 16969588),\n",
       " ('gray', 16947008)]"
      ]
     },
     "execution_count": 2,
     "metadata": {},
     "output_type": "execute_result"
    }
   ],
   "source": [
    "rdd = df.rdd\n",
    "\n",
    "rdd \\\n",
    "    .map(lambda row: (row.teamName, int(row.points))) \\\n",
    "    .reduceByKey(lambda a, b: a + b) \\\n",
    "    .sortBy(lambda a: a[1], False) \\\n",
    "    .collect()"
   ]
  }
 ],
 "metadata": {
  "kernelspec": {
   "display_name": "Python 3 (ipykernel)",
   "language": "python",
   "name": "python3"
  },
  "language_info": {
   "codemirror_mode": {
    "name": "ipython",
    "version": 3
   },
   "file_extension": ".py",
   "mimetype": "text/x-python",
   "name": "python",
   "nbconvert_exporter": "python",
   "pygments_lexer": "ipython3",
   "version": "3.9.6"
  }
 },
 "nbformat": 4,
 "nbformat_minor": 5
}
